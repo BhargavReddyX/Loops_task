{
 "cells": [
  {
   "cell_type": "markdown",
   "id": "d6886ff5",
   "metadata": {},
   "source": [
    "# Easy"
   ]
  },
  {
   "cell_type": "markdown",
   "id": "c8f0abae",
   "metadata": {},
   "source": [
    "## 1. Sum of Resistance in Series Circuits."
   ]
  },
  {
   "cell_type": "markdown",
   "id": "3153f456",
   "metadata": {},
   "source": [
    "* Create a function that takes an array of values resistance that are connected in series, and calculates the total resistance of the circuit in ohms. The ohm is the standard unit of electrical resistance in the International System of Units ( SI )."
   ]
  },
  {
   "cell_type": "code",
   "execution_count": 9,
   "id": "386409b7",
   "metadata": {},
   "outputs": [
    {
     "name": "stdout",
     "output_type": "stream",
     "text": [
      "60 in ohms\n"
     ]
    }
   ],
   "source": [
    "resistance = [10,20,30]\n",
    "total_resistance = 0\n",
    "x = 0\n",
    "while x < len(resistance):\n",
    "    total_resistance = total_resistance+resistance[x]\n",
    "    x = x+1\n",
    "print(f'{total_resistance} in ohms')"
   ]
  },
  {
   "cell_type": "code",
   "execution_count": 10,
   "id": "321070ea",
   "metadata": {},
   "outputs": [
    {
     "name": "stdout",
     "output_type": "stream",
     "text": [
      "60 in ohms\n"
     ]
    }
   ],
   "source": [
    "resistance = [10,20,30]\n",
    "total_resistance = 0\n",
    "\n",
    "for r in resistance:\n",
    "    total_resistance = total_resistance + r\n",
    "    \n",
    "print(f'{total_resistance} in ohms')"
   ]
  },
  {
   "cell_type": "markdown",
   "id": "6ed5a238",
   "metadata": {},
   "source": [
    "## 2. Instant JAZZ"
   ]
  },
  {
   "cell_type": "markdown",
   "id": "c1db069a",
   "metadata": {},
   "source": [
    "* Create a function which concatenates the number 7 to the end of every chord in a list. Ignore all chords which already end with 7."
   ]
  },
  {
   "cell_type": "code",
   "execution_count": 23,
   "id": "0338eefc",
   "metadata": {},
   "outputs": [
    {
     "name": "stdout",
     "output_type": "stream",
     "text": [
      "['ab7', 'df7', 'ew7']\n"
     ]
    }
   ],
   "source": [
    "l = ['ab','df','ew']\n",
    "x = []\n",
    "i=0\n",
    "while i < len(l):\n",
    "    a = l[i]\n",
    "    if a.endswith('7'):\n",
    "        x.append(a)\n",
    "    else:\n",
    "        x.append(a + '7')\n",
    "    i+=1\n",
    "print(x)"
   ]
  },
  {
   "cell_type": "code",
   "execution_count": 16,
   "id": "0b4f639e",
   "metadata": {},
   "outputs": [
    {
     "name": "stdout",
     "output_type": "stream",
     "text": [
      "['ab7', 'df7', 'ew7']\n"
     ]
    }
   ],
   "source": [
    "l = ['ab','df','ew']\n",
    "x = []\n",
    "for i in l:\n",
    "        if i.endswith('7'):\n",
    "            x.append(i)\n",
    "        else:\n",
    "            x.append(i + '7')\n",
    "print(x)"
   ]
  },
  {
   "cell_type": "markdown",
   "id": "12ef1e80",
   "metadata": {},
   "source": [
    "## 4. How Many Vowels?"
   ]
  },
  {
   "cell_type": "markdown",
   "id": "b23eddf3",
   "metadata": {},
   "source": [
    "* Create a function that takes a string and returns the number (count) of vowels contained within it."
   ]
  },
  {
   "cell_type": "code",
   "execution_count": 29,
   "id": "fa1a379c",
   "metadata": {},
   "outputs": [
    {
     "name": "stdout",
     "output_type": "stream",
     "text": [
      "enter a string: Hello Harshit!\n",
      "The number of vowels in 'Hello Harshit!' is: 4\n"
     ]
    }
   ],
   "source": [
    "x = input('enter a string: ')\n",
    "vowels = \"aeiouAEIOU\"\n",
    "r = 0\n",
    "i = 0\n",
    "\n",
    "while i < len(x):\n",
    "    a = x[i]\n",
    "    if a in vowels:\n",
    "        r += 1\n",
    "    i += 1\n",
    "print(f\"The number of vowels in '{x}' is: {r}\")"
   ]
  },
  {
   "cell_type": "code",
   "execution_count": 26,
   "id": "d9e02cd5",
   "metadata": {},
   "outputs": [
    {
     "name": "stdout",
     "output_type": "stream",
     "text": [
      "enter a string: Hello Harsh!\n",
      "The number of vowels in 'Hello Harsh!' is: 3\n"
     ]
    }
   ],
   "source": [
    "x = input('enter a string: ')\n",
    "vowels = \"aeiouAEIOU\"\n",
    "i = 0\n",
    "\n",
    "for char in x:\n",
    "    if char in vowels:\n",
    "        i += 1\n",
    "\n",
    "print(f\"The number of vowels in '{x}' is: {i}\")"
   ]
  },
  {
   "cell_type": "markdown",
   "id": "b38db372",
   "metadata": {},
   "source": [
    "## 5. Find the Odd Integer"
   ]
  },
  {
   "cell_type": "markdown",
   "id": "dfe7fbc6",
   "metadata": {},
   "source": [
    "* Create a function that takes a list and finds the integer which appears an odd number of times."
   ]
  },
  {
   "cell_type": "code",
   "execution_count": 32,
   "id": "81838751",
   "metadata": {},
   "outputs": [
    {
     "name": "stdout",
     "output_type": "stream",
     "text": [
      "enter a num: 1\n",
      "enter a num: 20\n",
      "[1, 3, 5, 7, 9, 11, 13, 15, 17, 19]\n"
     ]
    }
   ],
   "source": [
    "a,b = int(input('enter a num: ')),int(input('enter a num: '))\n",
    "s,g = min(a,b),max(a,b)\n",
    "odd = []\n",
    "x=s \n",
    "while x in range(s,g):\n",
    "    if x%2 != 0:\n",
    "        odd.append(x)\n",
    "    x+=1\n",
    "print(odd)"
   ]
  },
  {
   "cell_type": "code",
   "execution_count": 33,
   "id": "ffb0a2cf",
   "metadata": {},
   "outputs": [
    {
     "name": "stdout",
     "output_type": "stream",
     "text": [
      "enter a num: 1\n",
      "enter a num: 20\n",
      "[1, 3, 5, 7, 9, 11, 13, 15, 17, 19]\n"
     ]
    }
   ],
   "source": [
    "a,b = int(input('enter a num: ')),int(input('enter a num: '))\n",
    "s,g = min(a,b),max(a,b)\n",
    "odd = []\n",
    "x=s\n",
    "for x in range(s,g):\n",
    "    if x%2 != 0:\n",
    "        odd.append(x)\n",
    "    x+=1\n",
    "print(odd)"
   ]
  },
  {
   "cell_type": "markdown",
   "id": "eaaa3f0c",
   "metadata": {},
   "source": [
    "## 6. Hamming Distance"
   ]
  },
  {
   "cell_type": "markdown",
   "id": "a0e45497",
   "metadata": {},
   "source": [
    "* Hamming distance is the number of characters that differ between two strings."
   ]
  },
  {
   "cell_type": "code",
   "execution_count": 38,
   "id": "13ec7d64",
   "metadata": {},
   "outputs": [
    {
     "name": "stdout",
     "output_type": "stream",
     "text": [
      "enter a string: hello world\n",
      "enter a string: hello vorld\n",
      "The Hamming distance between 'hello world' and 'hello vorld' is: 1\n"
     ]
    }
   ],
   "source": [
    "s1 = input('enter a string: ')\n",
    "s2 = input('enter a string: ')\n",
    "r = 0\n",
    "i = 0\n",
    "\n",
    "while i < len(s1):\n",
    "    if s1[i] != s2[i]:\n",
    "        r += 1\n",
    "\n",
    "    i += 1\n",
    "print(f\"The Hamming distance between '{s1}' and '{s2}' is: {r}\")"
   ]
  },
  {
   "cell_type": "code",
   "execution_count": 40,
   "id": "8f2f76ea",
   "metadata": {},
   "outputs": [
    {
     "name": "stdout",
     "output_type": "stream",
     "text": [
      "enter a string: hello harsh\n",
      "enter a string: hello pursh\n",
      "The Hamming distance between 'hello harsh' and 'hello pursh' is: 2\n"
     ]
    }
   ],
   "source": [
    "s1 = input('enter a string: ')\n",
    "s2 = input('enter a string: ')\n",
    "r = 0\n",
    "\n",
    "for i in range(len(s1)):\n",
    "    if s1[i] != s2[i]:\n",
    "        r += 1\n",
    "print(f\"The Hamming distance between '{s1}' and '{s2}' is: {r}\")"
   ]
  },
  {
   "cell_type": "markdown",
   "id": "98238d80",
   "metadata": {},
   "source": [
    "## 7. Filter out Strings from an Array"
   ]
  },
  {
   "cell_type": "markdown",
   "id": "42e282e7",
   "metadata": {},
   "source": [
    "* Create a function that takes a list of non-negative integers and strings and return a new list without the strings."
   ]
  },
  {
   "cell_type": "code",
   "execution_count": 42,
   "id": "cbea1afd",
   "metadata": {},
   "outputs": [
    {
     "name": "stdout",
     "output_type": "stream",
     "text": [
      "[1, 2, 3, 62]\n"
     ]
    }
   ],
   "source": [
    "x = [1,'a',2,'b',3,'string',62]\n",
    "r = []\n",
    "i = 0\n",
    "\n",
    "while i < len(x):\n",
    "    item = x[i]\n",
    "\n",
    "    if isinstance(item, int) and item >= 0:\n",
    "        r.append(item)\n",
    "    i += 1\n",
    "print(r)"
   ]
  },
  {
   "cell_type": "code",
   "execution_count": 33,
   "id": "5225e5a2",
   "metadata": {},
   "outputs": [
    {
     "name": "stdout",
     "output_type": "stream",
     "text": [
      "[1, 2, 3, 62]\n"
     ]
    }
   ],
   "source": [
    "x = [1,'a',2,'b',3,'string',62]\n",
    "r = []\n",
    "\n",
    "for i in x:\n",
    "    if isinstance(i, int) and i >= 0:\n",
    "        r.append(i)\n",
    "print(r)"
   ]
  },
  {
   "cell_type": "markdown",
   "id": "63c29e48",
   "metadata": {},
   "source": [
    "## 8. Filter Strings from Array"
   ]
  },
  {
   "cell_type": "markdown",
   "id": "6abbfa0f",
   "metadata": {},
   "source": [
    "* Create a function that takes a list of strings and integers, and filters out the list so that it returns a list of integers only."
   ]
  },
  {
   "cell_type": "code",
   "execution_count": 84,
   "id": "109e64f1",
   "metadata": {},
   "outputs": [
    {
     "name": "stdout",
     "output_type": "stream",
     "text": [
      " list of integers only [21, 22, 23, 24, 25] \n"
     ]
    }
   ],
   "source": [
    "x = ['a',21,'b',22,23,'string',24,'abc','k',25]\n",
    "r = []\n",
    "i = 0\n",
    "\n",
    "while i < len(x):\n",
    "    item = x[i]\n",
    "\n",
    "    if isinstance(item, int) and item >= 0:\n",
    "        r.append(item)\n",
    "    i += 1\n",
    "print(f' list of integers only {r} ')"
   ]
  },
  {
   "cell_type": "code",
   "execution_count": 83,
   "id": "9a3386ad",
   "metadata": {},
   "outputs": [
    {
     "name": "stdout",
     "output_type": "stream",
     "text": [
      " list of integers only [21, 22, 23, 24, 25] \n"
     ]
    }
   ],
   "source": [
    "x = ['a',21,'b',22,23,'string',24,'abc','k',25]\n",
    "r = []\n",
    "\n",
    "for i in x:\n",
    "    if isinstance(i, int) and i >= 0:\n",
    "        r.append(i)\n",
    "print(f' list of integers only {r} ')"
   ]
  },
  {
   "cell_type": "markdown",
   "id": "dadea317",
   "metadata": {},
   "source": [
    "## 9. Add the Index"
   ]
  },
  {
   "cell_type": "markdown",
   "id": "c936581a",
   "metadata": {},
   "source": [
    "* a list of numbers, create a function which returns the list but with each element's index in the list added to itself"
   ]
  },
  {
   "cell_type": "code",
   "execution_count": 87,
   "id": "e3d1d306",
   "metadata": {},
   "outputs": [
    {
     "name": "stdout",
     "output_type": "stream",
     "text": [
      "[1, 3, 5, 7, 9, 11, 13]\n"
     ]
    }
   ],
   "source": [
    "l = [1,2,3,4,5,6,7]\n",
    "r = []\n",
    "i = 0\n",
    "while i < len(l):\n",
    "    r.append(l[i] + i)\n",
    "    \n",
    "    i += 1\n",
    "\n",
    "print(r)"
   ]
  },
  {
   "cell_type": "code",
   "execution_count": 95,
   "id": "366bdc9e",
   "metadata": {},
   "outputs": [
    {
     "name": "stdout",
     "output_type": "stream",
     "text": [
      "[1, 3, 5, 7, 9, 11, 13]\n"
     ]
    }
   ],
   "source": [
    "l = [1,2,3,4,5,6,7]\n",
    "r = []\n",
    "\n",
    "for i, value in enumerate(l):\n",
    "    r.append(i + value)\n",
    "\n",
    "print(r)"
   ]
  },
  {
   "cell_type": "markdown",
   "id": "a1b4096f",
   "metadata": {},
   "source": [
    "## 10. Triangular Number Sequence"
   ]
  },
  {
   "cell_type": "markdown",
   "id": "1fd9d360",
   "metadata": {},
   "source": [
    "* Triangular Number Sequence is generated from a pattern of dots that form a triangle."
   ]
  },
  {
   "cell_type": "code",
   "execution_count": 5,
   "id": "03e79218",
   "metadata": {},
   "outputs": [
    {
     "name": "stdout",
     "output_type": "stream",
     "text": [
      "enter a value: 10\n",
      "The first 10 triangular numbers are: [1, 3, 6, 10, 15, 21, 28, 36, 45, 55]\n"
     ]
    }
   ],
   "source": [
    "n = int(input('enter a value: '))\n",
    "triangular_numbers = []\n",
    "i = 1\n",
    "total_dots = 0\n",
    "    \n",
    "while i <= n:\n",
    "    total_dots += i\n",
    "    triangular_numbers.append(total_dots)\n",
    "    i += 1\n",
    "print(f\"The first {n} triangular numbers are: {triangular_numbers}\")"
   ]
  },
  {
   "cell_type": "code",
   "execution_count": 6,
   "id": "79cb49d9",
   "metadata": {},
   "outputs": [
    {
     "name": "stdout",
     "output_type": "stream",
     "text": [
      "enter a value: 10\n",
      "The first 10 triangular numbers are: [1, 3, 6, 10, 15, 21, 28, 36, 45, 55]\n"
     ]
    }
   ],
   "source": [
    "n = int(input('enter a value: '))\n",
    "triangular_numbers = []\n",
    "total_dots = 0\n",
    "    \n",
    "for i in range(1, n + 1):\n",
    "    total_dots += i\n",
    "    triangular_numbers.append(total_dots)\n",
    "        \n",
    "print(f\"The first {n} triangular numbers are: {triangular_numbers}\")"
   ]
  },
  {
   "cell_type": "markdown",
   "id": "a19e9311",
   "metadata": {},
   "source": [
    "## 11. Card Counting (BlackJack)"
   ]
  },
  {
   "cell_type": "markdown",
   "id": "d043be4c",
   "metadata": {},
   "source": [
    "* In BlackJack, cards are counted with -1, 0, 1 values:\n",
    "\n",
    "    * 2, 3, 4, 5, 6 are counted as +1\n",
    "    * 7, 8, 9 are counted as 0\n",
    "    * 10, J, Q, K, A are counted as -1"
   ]
  },
  {
   "cell_type": "code",
   "execution_count": 2,
   "id": "56d4f00b",
   "metadata": {},
   "outputs": [
    {
     "name": "stdout",
     "output_type": "stream",
     "text": [
      "enter a card num: 7\n",
      "0\n"
     ]
    }
   ],
   "source": [
    "cards = input('enter a card num: ')\n",
    "count = 0\n",
    "index = 0\n",
    "    \n",
    "while index < len(cards):\n",
    "    card = cards[index]\n",
    "        \n",
    "    if card in ['2', '3', '4', '5', '6']:\n",
    "        count += 1\n",
    "    elif card in ['10', 'J', 'Q', 'K', 'A']:\n",
    "        count -= 1\n",
    " \n",
    "    index += 1\n",
    "print(count)"
   ]
  },
  {
   "cell_type": "code",
   "execution_count": 4,
   "id": "72e41ebf",
   "metadata": {},
   "outputs": [
    {
     "name": "stdout",
     "output_type": "stream",
     "text": [
      "enter a card num: 5\n",
      "1\n"
     ]
    }
   ],
   "source": [
    "cards = input('enter a card num: ')\n",
    "count = 0\n",
    "    \n",
    "for card in cards:\n",
    "    if card in ['2', '3', '4', '5', '6']:\n",
    "        count += 1\n",
    "    elif card in ['10', 'J', 'Q', 'K', 'A']:\n",
    "        count -= 1\n",
    "\n",
    "print(count)"
   ]
  },
  {
   "cell_type": "markdown",
   "id": "560b394e",
   "metadata": {},
   "source": [
    "## 12. Return Only the Integer"
   ]
  },
  {
   "cell_type": "markdown",
   "id": "cc7b64a3",
   "metadata": {},
   "source": [
    "* Write a function that takes a list of elements and returns only the integers."
   ]
  },
  {
   "cell_type": "code",
   "execution_count": 1,
   "id": "67f1aa96",
   "metadata": {},
   "outputs": [
    {
     "name": "stdout",
     "output_type": "stream",
     "text": [
      "return Only the Integer: [11, 22, 44, 66, 24, 29, 30, 62]\n"
     ]
    }
   ],
   "source": [
    "x = [11,22,'Virat',44,66,'a',24,29,'b',30,'string',62]\n",
    "r = []\n",
    "i = 0\n",
    "\n",
    "while i < len(x):\n",
    "    item = x[i]\n",
    "\n",
    "    if isinstance(item, int) and item >= 0:\n",
    "        r.append(item)\n",
    "    i += 1\n",
    "print(f'return Only the Integer: {r}')"
   ]
  },
  {
   "cell_type": "code",
   "execution_count": 2,
   "id": "69f126ea",
   "metadata": {},
   "outputs": [
    {
     "name": "stdout",
     "output_type": "stream",
     "text": [
      "return Only the Integer: [11, 22, 44, 66, 24, 29, 30, 62]\n"
     ]
    }
   ],
   "source": [
    "x = [11,22,'Virat',44,66,'a',24,29,'b',30,'string',62]\n",
    "r = []\n",
    "\n",
    "for i in x:\n",
    "    if isinstance(i, int) and i >= 0:\n",
    "        r.append(i)\n",
    "print(f'return Only the Integer: {r}')"
   ]
  },
  {
   "cell_type": "markdown",
   "id": "81b64b20",
   "metadata": {},
   "source": [
    "## 13. Is the Word an Isogram?"
   ]
  },
  {
   "cell_type": "code",
   "execution_count": 3,
   "id": "92023c16",
   "metadata": {},
   "outputs": [
    {
     "name": "stdout",
     "output_type": "stream",
     "text": [
      "enter a string: Virat\n",
      "True\n"
     ]
    }
   ],
   "source": [
    "x = input('enter a string: ')\n",
    "x = x.lower()        # Convert the string to lowercase to make the check case-insensitive\n",
    "i = 0\n",
    "is_isogram = True\n",
    "    \n",
    "# Use a while loop to iterate through the characters\n",
    "while i < len(x) - 1 and is_isogram:\n",
    "    current_char = x[i]\n",
    "    next_index = i + 1\n",
    "        \n",
    "# Check if the current character is repeated in the remaining part of the string\n",
    "    while next_index < len(x):\n",
    "        if current_char == x[next_index]:\n",
    "            is_isogram = False\n",
    "            break\n",
    "        next_index += 1\n",
    "        \n",
    "    i += 1\n",
    "    \n",
    "print(is_isogram)"
   ]
  },
  {
   "cell_type": "code",
   "execution_count": null,
   "id": "d87bc72f",
   "metadata": {},
   "outputs": [],
   "source": []
  },
  {
   "cell_type": "markdown",
   "id": "6e2242f8",
   "metadata": {},
   "source": [
    "## 14. Purge and Organize"
   ]
  },
  {
   "cell_type": "markdown",
   "id": "1055ce01",
   "metadata": {},
   "source": [
    "* A list of numbers, write a function that returns a list that...\n",
    "\n",
    "    * Has all duplicate elements removed.\n",
    "    * Is sorted from least to greatest value."
   ]
  },
  {
   "cell_type": "code",
   "execution_count": 32,
   "id": "e7cffcc4",
   "metadata": {},
   "outputs": [
    {
     "name": "stdout",
     "output_type": "stream",
     "text": [
      "[1, 2, 4, 5, 6, 32, 33, 66]\n"
     ]
    }
   ],
   "source": [
    "x = [1,2,5,32,5,2,66,1,5,33,6,2,5,1,4,1]\n",
    "r = []\n",
    "i=0\n",
    "\n",
    "while i < len(x):\n",
    "    number = x.pop(0)\n",
    "    if number not in r:\n",
    "        r.append(number)\n",
    "    r.sort()\n",
    "print(r)"
   ]
  },
  {
   "cell_type": "code",
   "execution_count": 37,
   "id": "acfebb29",
   "metadata": {
    "scrolled": true
   },
   "outputs": [
    {
     "name": "stdout",
     "output_type": "stream",
     "text": [
      "[1, 2, 4, 5, 6, 32, 33, 66]\n"
     ]
    }
   ],
   "source": [
    "x = [1,2,5,32,5,2,66,1,5,6,33,2,5,1,4,1]\n",
    "r = list()\n",
    "\n",
    "for number in x:\n",
    "    if number not in r:\n",
    "        r.append(number)\n",
    "\n",
    "    r.sort()\n",
    "    \n",
    "print(r)"
   ]
  },
  {
   "cell_type": "markdown",
   "id": "a2e84488",
   "metadata": {},
   "source": [
    "## 15. Transform into a List with No Duplicates"
   ]
  },
  {
   "cell_type": "markdown",
   "id": "78c38607",
   "metadata": {},
   "source": [
    "* A set is a collection of unique items. A set can be formed from a list by removing all duplicate items."
   ]
  },
  {
   "cell_type": "code",
   "execution_count": 3,
   "id": "932cdce1",
   "metadata": {},
   "outputs": [
    {
     "name": "stdout",
     "output_type": "stream",
     "text": [
      "{1, 2, 3, 4, 5}\n"
     ]
    }
   ],
   "source": [
    "x = [1,1,1,2,2,3,3,4,4,5,5,1]\n",
    "unique_set = set()\n",
    "i = 0\n",
    "while i < len(x):\n",
    "    if x[i] not in unique_set:\n",
    "        unique_set.add(x[i])\n",
    "    i += 1\n",
    "print(unique_set)"
   ]
  },
  {
   "cell_type": "code",
   "execution_count": 6,
   "id": "c55e96de",
   "metadata": {},
   "outputs": [
    {
     "name": "stdout",
     "output_type": "stream",
     "text": [
      "{1, 2, 3}\n"
     ]
    }
   ],
   "source": [
    "x = [1,1,1,2,2,3,3,4,4,5,5,1]\n",
    "unique_set = set()\n",
    "\n",
    "for i in x:\n",
    "    if i not in unique_set:\n",
    "        unique_set.add(x[i])\n",
    "print(unique_set)"
   ]
  },
  {
   "cell_type": "markdown",
   "id": "0d8d2589",
   "metadata": {},
   "source": [
    "## 17. Say Hello to Guests"
   ]
  },
  {
   "cell_type": "markdown",
   "id": "502a06e1",
   "metadata": {},
   "source": [
    "* In this exercise you will have to:\n",
    "\n",
    "    * Take a list of names.\n",
    "    * Add \"Hello\" to every name.\n",
    "    * Make one big string with all greetings.\n",
    "* The solution should be one string with a comma in between every \"Hello (Name)\"."
   ]
  },
  {
   "cell_type": "code",
   "execution_count": 4,
   "id": "776e81f9",
   "metadata": {},
   "outputs": [
    {
     "name": "stdout",
     "output_type": "stream",
     "text": [
      "Hello King, Hello Kohli, Hello AbDe, Hello Virat\n"
     ]
    }
   ],
   "source": [
    "names = ['King', 'Kohli', 'AbDe', 'Virat']\n",
    "\n",
    "r = ''\n",
    "i = 0\n",
    "\n",
    "while i < len(names):\n",
    "    r += \"Hello \" + names[i]\n",
    "\n",
    "    if i < len(names) - 1:\n",
    "        r += \", \"\n",
    "    i += 1\n",
    "    \n",
    "print(r)"
   ]
  },
  {
   "cell_type": "code",
   "execution_count": 5,
   "id": "e3c02247",
   "metadata": {},
   "outputs": [
    {
     "name": "stdout",
     "output_type": "stream",
     "text": [
      "Hello King, Hello Kohli, Hello AbDe, Hello Virat, \n"
     ]
    }
   ],
   "source": [
    "names = ['King', 'Kohli', 'AbDe', 'Virat']\n",
    "r = ''\n",
    "\n",
    "for i in names:\n",
    "    r += \"Hello \" + i\n",
    "\n",
    "    if i != names:\n",
    "        r += \", \"\n",
    "    \n",
    "print(r)"
   ]
  },
  {
   "cell_type": "markdown",
   "id": "5396d919",
   "metadata": {},
   "source": [
    "# Medium"
   ]
  },
  {
   "cell_type": "markdown",
   "id": "f17173c4",
   "metadata": {},
   "source": [
    "## 1. List of Multiples"
   ]
  },
  {
   "cell_type": "markdown",
   "id": "7e98404a",
   "metadata": {},
   "source": [
    "* Create a function that takes two numbers as arguments (num, length) and returns a list of multiples of num until the list length reaches length."
   ]
  },
  {
   "cell_type": "code",
   "execution_count": 7,
   "id": "a6369acd",
   "metadata": {},
   "outputs": [
    {
     "name": "stdout",
     "output_type": "stream",
     "text": [
      "enter a number: 3\n",
      "[3, 6, 9, 12, 15, 18, 21, 24, 27, 30]\n"
     ]
    }
   ],
   "source": [
    "num = int(input('enter a number: '))\n",
    "l = []\n",
    "i = 1\n",
    "\n",
    "while len(l) < 10:\n",
    "    l.append(num * i)\n",
    "    i += 1\n",
    "print(l)"
   ]
  },
  {
   "cell_type": "code",
   "execution_count": 8,
   "id": "0c505961",
   "metadata": {},
   "outputs": [
    {
     "name": "stdout",
     "output_type": "stream",
     "text": [
      "enter a number: 5\n",
      "[5, 10, 15, 20, 25, 30, 35, 40, 45]\n"
     ]
    }
   ],
   "source": [
    "num = int(input('enter a number: '))\n",
    "l = []\n",
    "for i in range(1,10):\n",
    "    l.append(num * i)\n",
    "print(l)"
   ]
  },
  {
   "cell_type": "markdown",
   "id": "24838d84",
   "metadata": {},
   "source": [
    "## 2. Designing Rugs"
   ]
  },
  {
   "cell_type": "markdown",
   "id": "285fcc26",
   "metadata": {},
   "source": [
    "* Write a function that accepts the height and width (m, n) and an optional proc s and generates a list with m elements. Each element is a string consisting of either:\n",
    "\n",
    "    * The default character (hash #) repeating n times (if no proc is given).\n",
    "    * The character passed in through the proc repeating n times."
   ]
  },
  {
   "cell_type": "code",
   "execution_count": 25,
   "id": "2dc2c70b",
   "metadata": {},
   "outputs": [
    {
     "name": "stdout",
     "output_type": "stream",
     "text": [
      "enter a value: 5\n",
      "enter a value: 4\n",
      "enter a value: @\n",
      "['@@@@', '@@@@', '@@@@', '@@@@', '@@@@']\n"
     ]
    }
   ],
   "source": [
    "a = int(input('enter a value: '))\n",
    "b = int(input('enter a value: '))\n",
    "character = input('enter a value: ')\n",
    "\n",
    "l = []\n",
    "i = 0\n",
    "while i < a:\n",
    "    if character is None:\n",
    "        l.append(character * b)\n",
    "    else:\n",
    "        l.append(character * b)\n",
    "    i += 1\n",
    "\n",
    "print(l)"
   ]
  },
  {
   "cell_type": "code",
   "execution_count": 27,
   "id": "e32c0c8e",
   "metadata": {},
   "outputs": [
    {
     "name": "stdout",
     "output_type": "stream",
     "text": [
      "enter a value: 5\n",
      "enter a value: 3\n",
      "enter a value: #\n",
      "['###', '###', '###', '###', '###']\n"
     ]
    }
   ],
   "source": [
    "a = int(input('enter a value: '))\n",
    "b = int(input('enter a value: '))\n",
    "character = input('enter a value: ')\n",
    "\n",
    "l = []\n",
    "\n",
    "for i in range(a):\n",
    "    if character is None:\n",
    "        l.append(character * b)\n",
    "    else:\n",
    "        l.append(character * b)\n",
    "\n",
    "print(l)"
   ]
  },
  {
   "cell_type": "markdown",
   "id": "0904c6d2",
   "metadata": {},
   "source": [
    "## 3. Burglary Series (06): Convert to Number\n"
   ]
  },
  {
   "cell_type": "code",
   "execution_count": 29,
   "id": "10407dcf",
   "metadata": {},
   "outputs": [
    {
     "name": "stdout",
     "output_type": "stream",
     "text": [
      "{'a': 100, 'b': 200, 'c': 300}\n"
     ]
    }
   ],
   "source": [
    "d = {'a':'100','b':'200','c':'300'}\n",
    "output_dict = {}\n",
    "keys = list(d.keys())\n",
    "i = 0\n",
    "n = len(keys)\n",
    "\n",
    "while i < n:\n",
    "    key = keys[i]\n",
    "    value = d[key]\n",
    "\n",
    "    try:\n",
    "        converted_value = int(value)\n",
    "        output_dict[key] = converted_value\n",
    "    except ValueError:\n",
    "        output_dict[key] = value\n",
    "\n",
    "    i += 1\n",
    "print(output_dict)"
   ]
  },
  {
   "cell_type": "markdown",
   "id": "36082391",
   "metadata": {},
   "source": [
    "## 4. Two Distinct Elements"
   ]
  },
  {
   "cell_type": "markdown",
   "id": "1112c1b2",
   "metadata": {},
   "source": [
    "*  input list, every number repeats at least once. Write a function that returns the unique numbers."
   ]
  },
  {
   "cell_type": "code",
   "execution_count": 39,
   "id": "60675d71",
   "metadata": {},
   "outputs": [
    {
     "name": "stdout",
     "output_type": "stream",
     "text": [
      "[1, 5, 6, 8]\n"
     ]
    }
   ],
   "source": [
    "l = [1,2,3,4,2,5,3,4,6,4,8]\n",
    "d = {}\n",
    "i = 0\n",
    "n = len(l)\n",
    "\n",
    "while i < n:\n",
    "    num = l[i]\n",
    "\n",
    "    if num in d:\n",
    "        d[num] += 1\n",
    "    else:\n",
    "        d[num] = 1\n",
    "    i += 1\n",
    "\n",
    "unique_numbers = [key for key, value in d.items() if value == 1]      # Find the two unique numbers\n",
    "\n",
    "   \n",
    "print(unique_numbers)"
   ]
  },
  {
   "cell_type": "code",
   "execution_count": 42,
   "id": "2bfda768",
   "metadata": {},
   "outputs": [
    {
     "name": "stdout",
     "output_type": "stream",
     "text": [
      "[1, 5, 6, 8]\n"
     ]
    }
   ],
   "source": [
    "l = [1,2,3,4,2,5,3,4,6,4,8]\n",
    "d = {}\n",
    "\n",
    "for i in l:\n",
    "    if i in d:\n",
    "        d[i] += 1\n",
    "    else:\n",
    "        d[i] = 1\n",
    "        \n",
    "unique_numbers = [key for key, value in d.items() if value == 1]      # Find the two unique numbers\n",
    "\n",
    "   \n",
    "print(unique_numbers)"
   ]
  },
  {
   "cell_type": "markdown",
   "id": "df3776c1",
   "metadata": {},
   "source": [
    "## 5. Algebra Sequence — Boxes"
   ]
  },
  {
   "cell_type": "markdown",
   "id": "fb65d998",
   "metadata": {},
   "source": [
    "* Create a function that takes a number (step) as an argument and returns the amount of boxes in that step of the sequence.\n",
    "\n",
    "    * Step 0: Start with 0\n",
    "    * Step 1: Add 3\n",
    "    * Step 2: Subtract 1\n",
    "    * Repeat Step 1 & 2 .."
   ]
  },
  {
   "cell_type": "code",
   "execution_count": 58,
   "id": "042cf74a",
   "metadata": {},
   "outputs": [
    {
     "name": "stdout",
     "output_type": "stream",
     "text": [
      "enter a step value: 7\n",
      "8\n"
     ]
    }
   ],
   "source": [
    "step = int(input('enter a step value: '))\n",
    "total_boxes = 0\n",
    "i = 0\n",
    "\n",
    "while i <= step:\n",
    "    if i % 2 == 0:\n",
    "        total_boxes -= 1\n",
    "    else:\n",
    "        total_boxes += 3\n",
    "\n",
    "    i += 1\n",
    "\n",
    "print(total_boxes)"
   ]
  },
  {
   "cell_type": "code",
   "execution_count": 62,
   "id": "653a2cd7",
   "metadata": {
    "scrolled": true
   },
   "outputs": [
    {
     "name": "stdout",
     "output_type": "stream",
     "text": [
      "enter a step value: 6\n",
      "5\n"
     ]
    }
   ],
   "source": [
    "step = int(input('enter a step value: '))+1\n",
    "total_boxes = 0\n",
    "\n",
    "for i in range(step):\n",
    "    if i % 2 == 0:\n",
    "        total_boxes -= 1\n",
    "    else:\n",
    "        total_boxes += 3\n",
    "\n",
    "print(total_boxes)"
   ]
  },
  {
   "cell_type": "markdown",
   "id": "68d97fd6",
   "metadata": {},
   "source": [
    "## 6. Harshad Number"
   ]
  },
  {
   "cell_type": "code",
   "execution_count": 3,
   "id": "cb47554d",
   "metadata": {},
   "outputs": [
    {
     "name": "stdout",
     "output_type": "stream",
     "text": [
      "enter a number: 3\n",
      "True\n"
     ]
    }
   ],
   "source": [
    "num = int(input('enter a number: '))\n",
    "    # Calculate the sum of digits\n",
    "sum_of_digits = 0\n",
    "temp_num = num\n",
    "while temp_num > 0:\n",
    "    digit = temp_num % 10\n",
    "    sum_of_digits += digit\n",
    "    temp_num //= 10\n",
    "\n",
    "    # Check if the number is divisible by the sum of its digits\n",
    "print(num % sum_of_digits == 0)"
   ]
  },
  {
   "cell_type": "code",
   "execution_count": null,
   "id": "12e3c624",
   "metadata": {},
   "outputs": [],
   "source": []
  },
  {
   "cell_type": "markdown",
   "id": "07deb0cb",
   "metadata": {},
   "source": [
    "## 7. Emphasise the Words"
   ]
  },
  {
   "cell_type": "markdown",
   "id": "98b6896c",
   "metadata": {},
   "source": [
    "* The challenge is to recreate the functionality of the title() method into a function called emphasise(). The title() method capitalises the first letter of every word and lowercases all of the other letters in the word."
   ]
  },
  {
   "cell_type": "code",
   "execution_count": 13,
   "id": "934c2d80",
   "metadata": {},
   "outputs": [
    {
     "name": "stdout",
     "output_type": "stream",
     "text": [
      "enter a string: my name is harsh\n",
      "My Name Is Harsh\n"
     ]
    }
   ],
   "source": [
    "x = input('enter a string: ')\n",
    "r = ''\n",
    "capitalize = True\n",
    "i = 0\n",
    "\n",
    "while i < len(x):\n",
    "    if x[i].isalpha():\n",
    "        if capitalize:\n",
    "            r += x[i].upper()\n",
    "            capitalize = False\n",
    "        else:\n",
    "            r += x[i].lower()\n",
    "        i += 1\n",
    "    else:\n",
    "        r += x[i]\n",
    "        capitalize = True\n",
    "        i += 1\n",
    "\n",
    "print(r)"
   ]
  },
  {
   "cell_type": "code",
   "execution_count": 11,
   "id": "30bed7a3",
   "metadata": {},
   "outputs": [
    {
     "name": "stdout",
     "output_type": "stream",
     "text": [
      "enter a string: my name is harsh\n",
      "My Name Is Harsh\n"
     ]
    }
   ],
   "source": [
    "x = input('enter a string: ')\n",
    "r = ''\n",
    "capitalize = True\n",
    "\n",
    "for i in x:\n",
    "    if i.isalpha():\n",
    "        if capitalize:\n",
    "            r += i.upper()\n",
    "            capitalize = False\n",
    "        else:\n",
    "            r += i.lower()\n",
    "    else:\n",
    "        r += i\n",
    "        capitalize = True\n",
    "\n",
    "print(r)"
   ]
  }
 ],
 "metadata": {
  "kernelspec": {
   "display_name": "Python 3 (ipykernel)",
   "language": "python",
   "name": "python3"
  },
  "language_info": {
   "codemirror_mode": {
    "name": "ipython",
    "version": 3
   },
   "file_extension": ".py",
   "mimetype": "text/x-python",
   "name": "python",
   "nbconvert_exporter": "python",
   "pygments_lexer": "ipython3",
   "version": "3.11.5"
  }
 },
 "nbformat": 4,
 "nbformat_minor": 5
}
